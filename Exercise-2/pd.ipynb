{
 "cells": [
  {
   "cell_type": "code",
   "execution_count": 48,
   "id": "6b192a1e",
   "metadata": {},
   "outputs": [],
   "source": [
    "import pandas as pd\n",
    "df = pd.read_csv('C:/Projects/Docker/Exercises/Exercise-2/Downloads/01389099999.csv')\n"
   ]
  },
  {
   "cell_type": "code",
   "execution_count": 49,
   "id": "83e550dc",
   "metadata": {},
   "outputs": [
    {
     "data": {
      "text/html": [
       "<div>\n",
       "<style scoped>\n",
       "    .dataframe tbody tr th:only-of-type {\n",
       "        vertical-align: middle;\n",
       "    }\n",
       "\n",
       "    .dataframe tbody tr th {\n",
       "        vertical-align: top;\n",
       "    }\n",
       "\n",
       "    .dataframe thead th {\n",
       "        text-align: right;\n",
       "    }\n",
       "</style>\n",
       "<table border=\"1\" class=\"dataframe\">\n",
       "  <thead>\n",
       "    <tr style=\"text-align: right;\">\n",
       "      <th></th>\n",
       "      <th>STATION</th>\n",
       "      <th>DATE</th>\n",
       "      <th>LATITUDE</th>\n",
       "      <th>LONGITUDE</th>\n",
       "      <th>ELEVATION</th>\n",
       "      <th>NAME</th>\n",
       "      <th>REPORT_TYPE</th>\n",
       "      <th>SOURCE</th>\n",
       "      <th>HourlyAltimeterSetting</th>\n",
       "      <th>HourlyDewPointTemperature</th>\n",
       "      <th>...</th>\n",
       "      <th>BackupDirection</th>\n",
       "      <th>BackupDistance</th>\n",
       "      <th>BackupDistanceUnit</th>\n",
       "      <th>BackupElements</th>\n",
       "      <th>BackupElevation</th>\n",
       "      <th>BackupEquipment</th>\n",
       "      <th>BackupLatitude</th>\n",
       "      <th>BackupLongitude</th>\n",
       "      <th>BackupName</th>\n",
       "      <th>WindEquipmentChangeDate</th>\n",
       "    </tr>\n",
       "  </thead>\n",
       "  <tbody>\n",
       "    <tr>\n",
       "      <th>0</th>\n",
       "      <td>1389099999</td>\n",
       "      <td>2021-01-01T00:00:00</td>\n",
       "      <td>61.183333</td>\n",
       "      <td>11.366667</td>\n",
       "      <td>255.73</td>\n",
       "      <td>RENA AIRPORT, NO</td>\n",
       "      <td>FM-12</td>\n",
       "      <td>4</td>\n",
       "      <td>NaN</td>\n",
       "      <td>23</td>\n",
       "      <td>...</td>\n",
       "      <td>NaN</td>\n",
       "      <td>NaN</td>\n",
       "      <td>NaN</td>\n",
       "      <td>NaN</td>\n",
       "      <td>NaN</td>\n",
       "      <td>NaN</td>\n",
       "      <td>NaN</td>\n",
       "      <td>NaN</td>\n",
       "      <td>NaN</td>\n",
       "      <td>NaN</td>\n",
       "    </tr>\n",
       "    <tr>\n",
       "      <th>1</th>\n",
       "      <td>1389099999</td>\n",
       "      <td>2021-01-01T01:00:00</td>\n",
       "      <td>61.183333</td>\n",
       "      <td>11.366667</td>\n",
       "      <td>255.73</td>\n",
       "      <td>RENA AIRPORT, NO</td>\n",
       "      <td>FM-12</td>\n",
       "      <td>4</td>\n",
       "      <td>NaN</td>\n",
       "      <td>22</td>\n",
       "      <td>...</td>\n",
       "      <td>NaN</td>\n",
       "      <td>NaN</td>\n",
       "      <td>NaN</td>\n",
       "      <td>NaN</td>\n",
       "      <td>NaN</td>\n",
       "      <td>NaN</td>\n",
       "      <td>NaN</td>\n",
       "      <td>NaN</td>\n",
       "      <td>NaN</td>\n",
       "      <td>NaN</td>\n",
       "    </tr>\n",
       "    <tr>\n",
       "      <th>2</th>\n",
       "      <td>1389099999</td>\n",
       "      <td>2021-01-01T02:00:00</td>\n",
       "      <td>61.183333</td>\n",
       "      <td>11.366667</td>\n",
       "      <td>255.73</td>\n",
       "      <td>RENA AIRPORT, NO</td>\n",
       "      <td>FM-12</td>\n",
       "      <td>4</td>\n",
       "      <td>NaN</td>\n",
       "      <td>22</td>\n",
       "      <td>...</td>\n",
       "      <td>NaN</td>\n",
       "      <td>NaN</td>\n",
       "      <td>NaN</td>\n",
       "      <td>NaN</td>\n",
       "      <td>NaN</td>\n",
       "      <td>NaN</td>\n",
       "      <td>NaN</td>\n",
       "      <td>NaN</td>\n",
       "      <td>NaN</td>\n",
       "      <td>NaN</td>\n",
       "    </tr>\n",
       "    <tr>\n",
       "      <th>3</th>\n",
       "      <td>1389099999</td>\n",
       "      <td>2021-01-01T03:00:00</td>\n",
       "      <td>61.183333</td>\n",
       "      <td>11.366667</td>\n",
       "      <td>255.73</td>\n",
       "      <td>RENA AIRPORT, NO</td>\n",
       "      <td>FM-12</td>\n",
       "      <td>4</td>\n",
       "      <td>NaN</td>\n",
       "      <td>21</td>\n",
       "      <td>...</td>\n",
       "      <td>NaN</td>\n",
       "      <td>NaN</td>\n",
       "      <td>NaN</td>\n",
       "      <td>NaN</td>\n",
       "      <td>NaN</td>\n",
       "      <td>NaN</td>\n",
       "      <td>NaN</td>\n",
       "      <td>NaN</td>\n",
       "      <td>NaN</td>\n",
       "      <td>NaN</td>\n",
       "    </tr>\n",
       "    <tr>\n",
       "      <th>4</th>\n",
       "      <td>1389099999</td>\n",
       "      <td>2021-01-01T04:00:00</td>\n",
       "      <td>61.183333</td>\n",
       "      <td>11.366667</td>\n",
       "      <td>255.73</td>\n",
       "      <td>RENA AIRPORT, NO</td>\n",
       "      <td>FM-12</td>\n",
       "      <td>4</td>\n",
       "      <td>NaN</td>\n",
       "      <td>20</td>\n",
       "      <td>...</td>\n",
       "      <td>NaN</td>\n",
       "      <td>NaN</td>\n",
       "      <td>NaN</td>\n",
       "      <td>NaN</td>\n",
       "      <td>NaN</td>\n",
       "      <td>NaN</td>\n",
       "      <td>NaN</td>\n",
       "      <td>NaN</td>\n",
       "      <td>NaN</td>\n",
       "      <td>NaN</td>\n",
       "    </tr>\n",
       "  </tbody>\n",
       "</table>\n",
       "<p>5 rows × 125 columns</p>\n",
       "</div>"
      ],
      "text/plain": [
       "      STATION                 DATE   LATITUDE  LONGITUDE  ELEVATION  \\\n",
       "0  1389099999  2021-01-01T00:00:00  61.183333  11.366667     255.73   \n",
       "1  1389099999  2021-01-01T01:00:00  61.183333  11.366667     255.73   \n",
       "2  1389099999  2021-01-01T02:00:00  61.183333  11.366667     255.73   \n",
       "3  1389099999  2021-01-01T03:00:00  61.183333  11.366667     255.73   \n",
       "4  1389099999  2021-01-01T04:00:00  61.183333  11.366667     255.73   \n",
       "\n",
       "               NAME REPORT_TYPE  SOURCE  HourlyAltimeterSetting  \\\n",
       "0  RENA AIRPORT, NO       FM-12       4                     NaN   \n",
       "1  RENA AIRPORT, NO       FM-12       4                     NaN   \n",
       "2  RENA AIRPORT, NO       FM-12       4                     NaN   \n",
       "3  RENA AIRPORT, NO       FM-12       4                     NaN   \n",
       "4  RENA AIRPORT, NO       FM-12       4                     NaN   \n",
       "\n",
       "  HourlyDewPointTemperature  ... BackupDirection  BackupDistance  \\\n",
       "0                        23  ...             NaN             NaN   \n",
       "1                        22  ...             NaN             NaN   \n",
       "2                        22  ...             NaN             NaN   \n",
       "3                        21  ...             NaN             NaN   \n",
       "4                        20  ...             NaN             NaN   \n",
       "\n",
       "   BackupDistanceUnit  BackupElements  BackupElevation  BackupEquipment  \\\n",
       "0                 NaN             NaN              NaN              NaN   \n",
       "1                 NaN             NaN              NaN              NaN   \n",
       "2                 NaN             NaN              NaN              NaN   \n",
       "3                 NaN             NaN              NaN              NaN   \n",
       "4                 NaN             NaN              NaN              NaN   \n",
       "\n",
       "   BackupLatitude BackupLongitude BackupName  WindEquipmentChangeDate  \n",
       "0             NaN             NaN        NaN                      NaN  \n",
       "1             NaN             NaN        NaN                      NaN  \n",
       "2             NaN             NaN        NaN                      NaN  \n",
       "3             NaN             NaN        NaN                      NaN  \n",
       "4             NaN             NaN        NaN                      NaN  \n",
       "\n",
       "[5 rows x 125 columns]"
      ]
     },
     "execution_count": 49,
     "metadata": {},
     "output_type": "execute_result"
    }
   ],
   "source": [
    "df.head()"
   ]
  },
  {
   "cell_type": "code",
   "execution_count": 50,
   "id": "ec13be09",
   "metadata": {},
   "outputs": [
    {
     "name": "stdout",
     "output_type": "stream",
     "text": [
      "Total Number of rows: 5966\n",
      "Total Number of Non-null values: 7582\n",
      "Total Number of NaN(null) values: 1616\n"
     ]
    }
   ],
   "source": [
    "print(f'Total Number of rows: {df['HourlyDewPointTemperature'].count()}')\n",
    "print(f'Total Number of Non-null values: {df['HourlyDewPointTemperature'].isnull().count()}')\n",
    "print(f'Total Number of NaN(null) values: {df['HourlyDewPointTemperature'].isnull().sum()}')"
   ]
  },
  {
   "cell_type": "code",
   "execution_count": 51,
   "id": "956c8ecb",
   "metadata": {},
   "outputs": [
    {
     "name": "stdout",
     "output_type": "stream",
     "text": [
      "Total Number of rows: 0\n",
      "Total Number of Non-null values: 7582\n",
      "Total Number of NaN(null) values: 7582\n"
     ]
    }
   ],
   "source": [
    "print(f'Total Number of rows: {df['DailyAverageDryBulbTemperature'].count()}')\n",
    "print(f'Total Number of Non-null values: {df['DailyAverageDryBulbTemperature'].isnull().count()}')\n",
    "print(f'Total Number of NaN(null) values: {df['DailyAverageDryBulbTemperature'].isnull().sum()}')"
   ]
  },
  {
   "cell_type": "code",
   "execution_count": 52,
   "id": "eccbf7be",
   "metadata": {},
   "outputs": [
    {
     "ename": "TypeError",
     "evalue": "'>' not supported between instances of 'float' and 'str'",
     "output_type": "error",
     "traceback": [
      "\u001b[1;31m---------------------------------------------------------------------------\u001b[0m",
      "\u001b[1;31mTypeError\u001b[0m                                 Traceback (most recent call last)",
      "Cell \u001b[1;32mIn[52], line 1\u001b[0m\n\u001b[1;32m----> 1\u001b[0m \u001b[38;5;28mprint\u001b[39m(\u001b[38;5;28;43mmax\u001b[39;49m\u001b[43m(\u001b[49m\u001b[43mdf\u001b[49m\u001b[43m[\u001b[49m\u001b[38;5;124;43m'\u001b[39;49m\u001b[38;5;124;43mHourlyDewPointTemperature\u001b[39;49m\u001b[38;5;124;43m'\u001b[39;49m\u001b[43m]\u001b[49m\u001b[43m)\u001b[49m)\n\u001b[0;32m      2\u001b[0m \u001b[38;5;28mprint\u001b[39m(\u001b[38;5;28mmax\u001b[39m(df[\u001b[38;5;124m'\u001b[39m\u001b[38;5;124mDailyAverageDryBulbTemperature\u001b[39m\u001b[38;5;124m'\u001b[39m]))\n",
      "\u001b[1;31mTypeError\u001b[0m: '>' not supported between instances of 'float' and 'str'"
     ]
    }
   ],
   "source": [
    "print(max(df['HourlyDewPointTemperature']))\n",
    "print(max(df['DailyAverageDryBulbTemperature']))"
   ]
  },
  {
   "cell_type": "code",
   "execution_count": 53,
   "id": "d10256c0",
   "metadata": {},
   "outputs": [
    {
     "ename": "TypeError",
     "evalue": "'>' not supported between instances of 'float' and 'str'",
     "output_type": "error",
     "traceback": [
      "\u001b[1;31m---------------------------------------------------------------------------\u001b[0m",
      "\u001b[1;31mTypeError\u001b[0m                                 Traceback (most recent call last)",
      "Cell \u001b[1;32mIn[53], line 1\u001b[0m\n\u001b[1;32m----> 1\u001b[0m \u001b[38;5;28mprint\u001b[39m(\u001b[38;5;124m\"\u001b[39m\u001b[38;5;124mMax HourlyDewPointTemperature:\u001b[39m\u001b[38;5;124m\"\u001b[39m, \u001b[38;5;28;43mmax\u001b[39;49m\u001b[43m(\u001b[49m\u001b[43mdf\u001b[49m\u001b[43m[\u001b[49m\u001b[38;5;124;43m'\u001b[39;49m\u001b[38;5;124;43mHourlyDewPointTemperature\u001b[39;49m\u001b[38;5;124;43m'\u001b[39;49m\u001b[43m]\u001b[49m\u001b[43m)\u001b[49m)\n\u001b[0;32m      2\u001b[0m \u001b[38;5;28mprint\u001b[39m(\u001b[38;5;124m\"\u001b[39m\u001b[38;5;124mMax DailyAverageDryBulbTemperature:\u001b[39m\u001b[38;5;124m\"\u001b[39m, \u001b[38;5;28mmax\u001b[39m(df[\u001b[38;5;124m'\u001b[39m\u001b[38;5;124mDailyAverageDryBulbTemperature\u001b[39m\u001b[38;5;124m'\u001b[39m]))\n",
      "\u001b[1;31mTypeError\u001b[0m: '>' not supported between instances of 'float' and 'str'"
     ]
    }
   ],
   "source": [
    "print(\"Max HourlyDewPointTemperature:\", max(df['HourlyDewPointTemperature']))\n",
    "print(\"Max DailyAverageDryBulbTemperature:\", max(df['DailyAverageDryBulbTemperature']))"
   ]
  },
  {
   "cell_type": "code",
   "execution_count": 55,
   "id": "b3634e55",
   "metadata": {},
   "outputs": [
    {
     "name": "stdout",
     "output_type": "stream",
     "text": [
      "Original data types:\n",
      "HourlyDewPointTemperature          object\n",
      "DailyAverageDryBulbTemperature    float64\n",
      "dtype: object\n"
     ]
    }
   ],
   "source": [
    "print(\"Original data types:\")\n",
    "print(df[['HourlyDewPointTemperature', 'DailyAverageDryBulbTemperature']].dtypes)"
   ]
  },
  {
   "cell_type": "code",
   "execution_count": 60,
   "id": "2dfe2685",
   "metadata": {},
   "outputs": [
    {
     "name": "stdout",
     "output_type": "stream",
     "text": [
      "\n",
      "Max HourlyDewPointTemperature: 65.0\n",
      "Max DailyAverageDryBulbTemperature: nan\n",
      "\n",
      "NaNs in HourlyDewPointTemperature after conversion: 1628\n"
     ]
    }
   ],
   "source": [
    "# --- 2. Convert the 'HourlyDewPointTemperature' column to numeric ---\n",
    "# Use errors='coerce' to turn any non-numeric strings into NaN\n",
    "df['HourlyDewPointTemperature'] = pd.to_numeric(df['HourlyDewPointTemperature'], errors='coerce')\n",
    "\n",
    "# --- 3. (Optional but good practice) Ensure DailyAverageDryBulbTemperature is numeric ---\n",
    "# Even though it was already float64, this ensures consistency and handles edge cases if they appear\n",
    "df['DailyAverageDryBulbTemperature'] = pd.to_numeric(df['DailyAverageDryBulbTemperature'], errors='coerce')\n",
    "\n",
    "# --- 4. Now, find the maximum values ---\n",
    "# max() will automatically ignore NaN values in a numeric series.\n",
    "print(\"\\nMax HourlyDewPointTemperature:\", max(df['HourlyDewPointTemperature']))\n",
    "print(\"Max DailyAverageDryBulbTemperature:\", max(df['DailyAverageDryBulbTemperature']))\n",
    "\n",
    "# --- 5. (Optional) Check how many NaNs were introduced in HourlyDewPointTemperature ---\n",
    "print(\"\\nNaNs in HourlyDewPointTemperature after conversion:\", df['HourlyDewPointTemperature'].isnull().sum())\n"
   ]
  },
  {
   "cell_type": "code",
   "execution_count": 63,
   "id": "97c94964",
   "metadata": {},
   "outputs": [
    {
     "name": "stdout",
     "output_type": "stream",
     "text": [
      "65.0\n",
      "         STATION                 DATE   LATITUDE  LONGITUDE  ELEVATION  \\\n",
      "4109  1389099999  2021-07-15T08:00:00  61.183333  11.366667     255.73   \n",
      "4110  1389099999  2021-07-15T09:00:00  61.183333  11.366667     255.73   \n",
      "\n",
      "                  NAME REPORT_TYPE  SOURCE  HourlyAltimeterSetting  \\\n",
      "4109  RENA AIRPORT, NO       FM-12       4                     NaN   \n",
      "4110  RENA AIRPORT, NO       FM-12       4                     NaN   \n",
      "\n",
      "      HourlyDewPointTemperature  ... BackupDirection  BackupDistance  \\\n",
      "4109                       65.0  ...             NaN             NaN   \n",
      "4110                       65.0  ...             NaN             NaN   \n",
      "\n",
      "      BackupDistanceUnit  BackupElements  BackupElevation  BackupEquipment  \\\n",
      "4109                 NaN             NaN              NaN              NaN   \n",
      "4110                 NaN             NaN              NaN              NaN   \n",
      "\n",
      "      BackupLatitude BackupLongitude BackupName  WindEquipmentChangeDate  \n",
      "4109             NaN             NaN        NaN                      NaN  \n",
      "4110             NaN             NaN        NaN                      NaN  \n",
      "\n",
      "[2 rows x 125 columns]\n"
     ]
    }
   ],
   "source": [
    "max_temp = df['HourlyDewPointTemperature'].max()\n",
    "print(max)\n",
    "\n",
    "rows = df[df['HourlyDewPointTemperature'] == max_temp]\n",
    "print(rows)"
   ]
  },
  {
   "cell_type": "code",
   "execution_count": null,
   "id": "5384c076",
   "metadata": {},
   "outputs": [],
   "source": []
  }
 ],
 "metadata": {
  "kernelspec": {
   "display_name": "base",
   "language": "python",
   "name": "python3"
  },
  "language_info": {
   "codemirror_mode": {
    "name": "ipython",
    "version": 3
   },
   "file_extension": ".py",
   "mimetype": "text/x-python",
   "name": "python",
   "nbconvert_exporter": "python",
   "pygments_lexer": "ipython3",
   "version": "3.12.4"
  }
 },
 "nbformat": 4,
 "nbformat_minor": 5
}
